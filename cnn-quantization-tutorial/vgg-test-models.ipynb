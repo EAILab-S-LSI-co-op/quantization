{
 "cells": [
  {
   "cell_type": "code",
   "execution_count": 3,
   "metadata": {},
   "outputs": [],
   "source": [
    "\n",
    "import torch\n",
    "import copy\n",
    "import torchvision.datasets as datasets\n",
    "import torchvision.transforms as transforms\n",
    "from torch.utils.data import DataLoader\n",
    "import torch.ao.quantization.quantize_fx as quantize_fx\n",
    "from src.vgg import *\n",
    "from src.util import *\n",
    "import os\n",
    "\n",
    "def get_size_of_model(model):\n",
    "    torch.save(model.state_dict(), \"temp.p\")\n",
    "    return os.path.getsize(\"temp.p\")/1e6\n",
    "\n",
    "model_path = \"./models\"\n",
    "\n",
    "vgg11 = vgg('vgg11'); vgg11.load_state_dict(torch.load(f'{model_path}/vgg11.pth')); vgg11.eval()\n",
    "vgg13 = vgg('vgg13'); vgg13.load_state_dict(torch.load(f'{model_path}/vgg13.pth')); vgg13.eval()\n",
    "vgg16 = vgg('vgg16'); vgg16.load_state_dict(torch.load(f'{model_path}/vgg16.pth')); vgg16.eval()\n",
    "vgg19 = vgg('vgg19'); vgg19.load_state_dict(torch.load(f'{model_path}/vgg19.pth')); vgg19.eval()\n",
    "\n",
    "models = {\n",
    "    'vgg11': vgg11,\n",
    "    'vgg13': vgg13,\n",
    "    'vgg16': vgg16,\n",
    "    'vgg19': vgg19,\n",
    "}"
   ]
  },
  {
   "cell_type": "code",
   "execution_count": 4,
   "metadata": {},
   "outputs": [
    {
     "name": "stdout",
     "output_type": "stream",
     "text": [
      "vgg11 model size:\t 36.961198 MB\n",
      "vgg13 model size:\t 37.705754 MB\n",
      "vgg16 model size:\t 58.970204 MB\n",
      "vgg19 model size:\t 80.234732 MB\n"
     ]
    }
   ],
   "source": [
    "# measure model size\n",
    "scale = 1024**2\n",
    "for model_name, model in models.items():\n",
    "    model_size = get_size_of_model(model)\n",
    "    print(f'{model_name} model size:\\t {model_size} MB')"
   ]
  },
  {
   "cell_type": "code",
   "execution_count": 5,
   "metadata": {},
   "outputs": [
    {
     "name": "stdout",
     "output_type": "stream",
     "text": [
      "vgg11 elapsed time:\t 0.002370\n",
      "vgg13 elapsed time:\t 0.002467\n",
      "vgg16 elapsed time:\t 0.003432\n",
      "vgg19 elapsed time:\t 0.004339\n"
     ]
    }
   ],
   "source": [
    "# measure inference latency\n",
    "for model_name, model in models.items():\n",
    "    elapsed_time = measure_inference_latency(model, 'cpu')\n",
    "    print(f'{model_name} elapsed time:\\t {elapsed_time:4f}')"
   ]
  },
  {
   "cell_type": "code",
   "execution_count": 6,
   "metadata": {},
   "outputs": [
    {
     "name": "stdout",
     "output_type": "stream",
     "text": [
      "Files already downloaded and verified\n",
      "vgg11 accuracy:\t 0.8568\n",
      "vgg13 accuracy:\t 0.8719\n",
      "vgg16 accuracy:\t 0.8728\n",
      "vgg19 accuracy:\t 0.8762\n"
     ]
    }
   ],
   "source": [
    "# measure accuracy\n",
    "\n",
    "data_path = \"/workspace/shared/data\"\n",
    "test_dataset = datasets.CIFAR10(root=data_path, train=False, transform=transforms.ToTensor(), download=True)\n",
    "test_loader = DataLoader(test_dataset, batch_size=32, shuffle=False)\n",
    "\n",
    "for model_name, model in models.items():\n",
    "    accuracy = measure_accuracy(model, test_loader, 'cpu')\n",
    "    print(f'{model_name} accuracy:\\t {accuracy:.4f}')"
   ]
  },
  {
   "cell_type": "code",
   "execution_count": null,
   "metadata": {},
   "outputs": [],
   "source": []
  }
 ],
 "metadata": {
  "kernelspec": {
   "display_name": "mqbench",
   "language": "python",
   "name": "python3"
  },
  "language_info": {
   "codemirror_mode": {
    "name": "ipython",
    "version": 3
   },
   "file_extension": ".py",
   "mimetype": "text/x-python",
   "name": "python",
   "nbconvert_exporter": "python",
   "pygments_lexer": "ipython3",
   "version": "3.10.12"
  }
 },
 "nbformat": 4,
 "nbformat_minor": 2
}
